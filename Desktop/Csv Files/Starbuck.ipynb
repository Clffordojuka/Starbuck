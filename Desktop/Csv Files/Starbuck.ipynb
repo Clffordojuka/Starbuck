{
 "cells": [
  {
   "cell_type": "code",
   "execution_count": 1,
   "id": "4c2ff087",
   "metadata": {
    "scrolled": false
   },
   "outputs": [
    {
     "name": "stdout",
     "output_type": "stream",
     "text": [
      "   oldid        city country   latitude   longitude  \\\n",
      "0   4151  Scottsdale      US  33.781139 -111.922531   \n",
      "1   4281     Phoenix      US  33.640507 -112.133507   \n",
      "2   4317     Gilbert      US  33.348576 -111.720100   \n",
      "3   4318    Chandler      US  33.319832 -111.891426   \n",
      "4   4326    Goodyear      US  33.465324 -112.341660   \n",
      "\n",
      "                              name  store_id  store_count  population  \n",
      "0       Safeway - Scottsdale #1849      6453           39    250000.0  \n",
      "1           Safeway - Phoenix #240      6601          103   1600000.0  \n",
      "2  Bashas - Gilbert/Higley Rd #172      6643           17    250000.0  \n",
      "3    Ray Road & Loop 101, Chandler      6644           26    260000.0  \n",
      "4      Dysart & McDowell, Goodyear      6655            6     85000.0  \n",
      "Updated file saved to C:\\Users\\USER\\Desktop\\starbucks_AZ_with_population.csv\n"
     ]
    }
   ],
   "source": [
    "import pandas as pd\n",
    "from sklearn.ensemble import RandomForestClassifier\n",
    "from sklearn.model_selection import train_test_split\n",
    "from sklearn.preprocessing import StandardScaler\n",
    "import matplotlib.pyplot as plt\n",
    "import seaborn as sns\n",
    "\n",
    "\n",
    "# Load the data\n",
    "file_path = 'starbucks_AZ_with_store_counts.csv'  # Ensure this is the correct path to your CSV\n",
    "data = pd.read_csv(file_path)\n",
    "\n",
    "# Add dummy population data\n",
    "population_data = {\n",
    "    'Scottsdale': 250000,\n",
    "    'Phoenix': 1600000,\n",
    "    'Gilbert': 250000,\n",
    "    'Chandler': 260000,\n",
    "    'Goodyear': 85000\n",
    "}\n",
    "\n",
    "# Create the 'population' column based on the city\n",
    "data['population'] = data['city'].map(population_data)\n",
    "\n",
    "# Handle missing population data\n",
    "data['population'].fillna(1, inplace=True)  # To avoid division by zero\n",
    "\n",
    "# Display the updated DataFrame\n",
    "print(data.head())\n",
    "\n",
    "# Save the updated DataFrame to a new CSV file\n",
    "# Try saving to a different directory where you have write permissions\n",
    "# Example: Save to your home directory\n",
    "updated_file_path = 'C:\\\\Users\\\\USER\\\\Desktop\\\\starbucks_AZ_with_population.csv'  # Change to a directory you have write access to, like your home directory\n",
    "\n",
    "data.to_csv(updated_file_path, index=False)\n",
    "\n",
    "print(f\"Updated file saved to {updated_file_path}\")\n",
    "\n"
   ]
  },
  {
   "cell_type": "code",
   "execution_count": 2,
   "id": "416410ce",
   "metadata": {
    "scrolled": true
   },
   "outputs": [
    {
     "data": {
      "text/plain": [
       "Index(['oldid', 'city', 'country', 'latitude', 'longitude', 'name', 'store_id',\n",
       "       'store_count', 'population'],\n",
       "      dtype='object')"
      ]
     },
     "execution_count": 2,
     "metadata": {},
     "output_type": "execute_result"
    }
   ],
   "source": [
    "data.columns"
   ]
  },
  {
   "cell_type": "code",
   "execution_count": 3,
   "id": "38ea35b2",
   "metadata": {},
   "outputs": [
    {
     "name": "stdout",
     "output_type": "stream",
     "text": [
      "oldid          0\n",
      "city           0\n",
      "country        0\n",
      "latitude       0\n",
      "longitude      0\n",
      "name           0\n",
      "store_id       0\n",
      "store_count    0\n",
      "population     0\n",
      "dtype: int64\n"
     ]
    }
   ],
   "source": [
    "# Check for missing values\n",
    "missing_values = data.isnull().sum()\n",
    "print(missing_values)\n"
   ]
  },
  {
   "cell_type": "code",
   "execution_count": 4,
   "id": "9f969d47",
   "metadata": {},
   "outputs": [],
   "source": [
    "# Convert columns to appropriate data types\n",
    "data['store_id'] = data['store_id'].astype(int)\n",
    "data['city'] = data['city'].astype(str)\n",
    "data['country'] = data['country'].astype(str)\n",
    "data['name'] = data['name'].astype(str)\n",
    "data['oldid'] = data['oldid'].astype(int)\n",
    "data['latitude'] = data['longitude'].astype(float)\n",
    "data['longitude'] = data['longitude'].astype(float)\n",
    "data['store_store'] = data['store_count'].astype(int)"
   ]
  },
  {
   "cell_type": "code",
   "execution_count": 5,
   "id": "fbf015e3",
   "metadata": {},
   "outputs": [],
   "source": [
    "# Remove duplicate rows\n",
    "data.drop_duplicates(inplace=True)\n"
   ]
  },
  {
   "cell_type": "code",
   "execution_count": 6,
   "id": "9c344b6d",
   "metadata": {},
   "outputs": [],
   "source": [
    "# Ensure consistent formatting in categorical data\n",
    "data['city'] = data['city'].str.title()"
   ]
  },
  {
   "cell_type": "code",
   "execution_count": 7,
   "id": "5793d0c6",
   "metadata": {
    "scrolled": false
   },
   "outputs": [
    {
     "name": "stdout",
     "output_type": "stream",
     "text": [
      "              oldid    latitude   longitude      store_id  store_count  \\\n",
      "count    326.000000  326.000000  326.000000  3.260000e+02   326.000000   \n",
      "mean   12612.177914 -111.994767 -111.994767  2.811369e+05    48.760736   \n",
      "std     5871.735320    0.193853    0.193853  4.375993e+05    38.445860   \n",
      "min     4151.000000 -112.558250 -112.558250  6.453000e+03     1.000000   \n",
      "25%     7746.000000 -112.111620 -112.111620  1.095250e+04    18.000000   \n",
      "50%    11295.500000 -111.970161 -111.970161  1.579250e+04    37.000000   \n",
      "75%    17480.250000 -111.877028 -111.877028  1.005748e+06   103.000000   \n",
      "max    25078.000000 -111.599274 -111.599274  1.016356e+06   103.000000   \n",
      "\n",
      "         population  store_store  \n",
      "count  3.260000e+02   326.000000  \n",
      "mean   5.707673e+05    48.760736  \n",
      "std    7.077118e+05    38.445860  \n",
      "min    1.000000e+00     1.000000  \n",
      "25%    1.000000e+00    18.000000  \n",
      "50%    2.500000e+05    37.000000  \n",
      "75%    1.600000e+06   103.000000  \n",
      "max    1.600000e+06   103.000000  \n",
      "city\n",
      "Phoenix            104\n",
      "Scottsdale          40\n",
      "Mesa                37\n",
      "Tempe               29\n",
      "Chandler            27\n",
      "Glendale            18\n",
      "Gilbert             17\n",
      "Peoria              10\n",
      "Surprise            10\n",
      "Goodyear             7\n",
      "Litchfield Park      4\n",
      "Avondale             4\n",
      "Queen Creek          4\n",
      "Sun City             3\n",
      "Laveen               3\n",
      "Fountain Hills       3\n",
      "Sun City West        2\n",
      "Higley               1\n",
      "Tolleson             1\n",
      "Buckeye              1\n",
      "Cave Creek           1\n",
      "Name: count, dtype: int64\n"
     ]
    }
   ],
   "source": [
    "# Generate summary statistics for numerical columns\n",
    "print(data.describe())\n",
    "# Frequency counts for categorical columns\n",
    "print(data['city'].value_counts())"
   ]
  },
  {
   "cell_type": "code",
   "execution_count": 8,
   "id": "68b031ea",
   "metadata": {
    "scrolled": false
   },
   "outputs": [
    {
     "name": "stderr",
     "output_type": "stream",
     "text": [
      "C:\\Users\\USER\\anaconda3\\Lib\\site-packages\\seaborn\\_oldcore.py:1498: FutureWarning: is_categorical_dtype is deprecated and will be removed in a future version. Use isinstance(dtype, CategoricalDtype) instead\n",
      "  if pd.api.types.is_categorical_dtype(vector):\n",
      "C:\\Users\\USER\\anaconda3\\Lib\\site-packages\\seaborn\\_oldcore.py:1498: FutureWarning: is_categorical_dtype is deprecated and will be removed in a future version. Use isinstance(dtype, CategoricalDtype) instead\n",
      "  if pd.api.types.is_categorical_dtype(vector):\n"
     ]
    },
    {
     "data": {
      "image/png": "[encoded data removed]",
      "text/plain": [
       "<Figure size 1200x600 with 1 Axes>"
      ]
     },
     "metadata": {},
     "output_type": "display_data"
    }
   ],
   "source": [
    "# Bar Chart for Store Count by City\n",
    "plt.figure(figsize=(12, 6))\n",
    "sns.countplot(data=data, x='city', order=data['city'].value_counts().index)\n",
    "plt.xticks(rotation=90)\n",
    "plt.title('Store Count by City')\n",
    "plt.show()"
   ]
  },
  {
   "cell_type": "code",
   "execution_count": 9,
   "id": "57a6e2e8",
   "metadata": {},
   "outputs": [],
   "source": [
    "# Example: Create a new feature - Store Density (stores per 1000 population)\n",
    "data['store_density'] = data['store_count'] / (data['population'] / 1000)\n"
   ]
  },
  {
   "cell_type": "code",
   "execution_count": 10,
   "id": "35393093",
   "metadata": {},
   "outputs": [],
   "source": [
    "# Normalize numerical features\n",
    "scaler = StandardScaler()\n",
    "numerical_features = ['store_density']\n",
    "data[numerical_features] = scaler.fit_transform(data[numerical_features])\n"
   ]
  },
  {
   "cell_type": "code",
   "execution_count": 11,
   "id": "bcdeda6b",
   "metadata": {},
   "outputs": [],
   "source": [
    "# One-hot encode categorical variables\n",
    "# Convert categorical variables to numerical using one-hot encoding\n",
    "#X = pd.get_dummies(X, columns=['city', 'country', 'name'])"
   ]
  },
  {
   "cell_type": "code",
   "execution_count": 12,
   "id": "274b7e7e",
   "metadata": {},
   "outputs": [
    {
     "name": "stdout",
     "output_type": "stream",
     "text": [
      "X_train shape: (260, 355)\n",
      "X_test shape: (66, 355)\n",
      "y_train shape: (260,)\n",
      "y_test shape: (66,)\n",
      "Data successfully split into training and testing sets.\n"
     ]
    }
   ],
   "source": [
    "# Define the target column\n",
    "target_column = 'store_count'\n",
    "\n",
    "# Define features and target variable\n",
    "X = data.drop(target_column, axis=1)\n",
    "y = data[target_column]\n",
    "\n",
    "# Convert categorical variables to numerical using one-hot encoding\n",
    "X = pd.get_dummies(X, columns=['city', 'country', 'name'])\n",
    "\n",
    "# Split the data into training and testing sets\n",
    "X_train, X_test, y_train, y_test = train_test_split(X, y, test_size=0.2, random_state=42)\n",
    "\n",
    "# Display the shapes of the resulting datasets\n",
    "print(f\"X_train shape: {X_train.shape}\")\n",
    "print(f\"X_test shape: {X_test.shape}\")\n",
    "print(f\"y_train shape: {y_train.shape}\")\n",
    "print(f\"y_test shape: {y_test.shape}\")\n",
    "\n",
    "print(\"Data successfully split into training and testing sets.\")\n"
   ]
  },
  {
   "cell_type": "code",
   "execution_count": 13,
   "id": "bd1a0979",
   "metadata": {},
   "outputs": [
    {
     "name": "stdout",
     "output_type": "stream",
     "text": [
      "Model training complete.\n"
     ]
    }
   ],
   "source": [
    "# Initialize the model\n",
    "model = RandomForestClassifier()\n",
    "\n",
    "# Train the model\n",
    "model.fit(X_train, y_train)\n",
    "\n",
    "print(\"Model training complete.\")\n"
   ]
  },
  {
   "cell_type": "code",
   "execution_count": 14,
   "id": "ab5723a7",
   "metadata": {},
   "outputs": [
    {
     "name": "stdout",
     "output_type": "stream",
     "text": [
      "Accuracy: 0.9242424242424242\n",
      "Confusion Matrix:\n",
      "[[ 0  0  1  0  0  0  0  1  1  0  0  1]\n",
      " [ 1  0  0  0  0  0  0  0  0  0  0  0]\n",
      " [ 0  0  2  0  0  0  0  0  0  0  0  0]\n",
      " [ 0  0  0  1  0  0  0  0  0  0  0  0]\n",
      " [ 0  0  0  0  5  0  0  0  0  0  0  0]\n",
      " [ 0  0  0  0  0  2  0  0  0  0  0  0]\n",
      " [ 0  0  0  0  0  0  4  0  0  0  0  0]\n",
      " [ 0  0  0  0  0  0  0  5  0  0  0  0]\n",
      " [ 0  0  0  0  0  0  0  0  8  0  0  0]\n",
      " [ 0  0  0  0  0  0  0  0  0  6  0  0]\n",
      " [ 0  0  0  0  0  0  0  0  0  0  5  0]\n",
      " [ 0  0  0  0  0  0  0  0  0  0  0 23]]\n",
      "Classification Report:\n",
      "              precision    recall  f1-score   support\n",
      "\n",
      "           1       0.00      0.00      0.00         4\n",
      "           2       0.00      0.00      0.00         1\n",
      "           3       0.67      1.00      0.80         2\n",
      "           4       1.00      1.00      1.00         1\n",
      "          10       1.00      1.00      1.00         5\n",
      "          17       1.00      1.00      1.00         2\n",
      "          18       1.00      1.00      1.00         4\n",
      "          26       0.83      1.00      0.91         5\n",
      "          28       0.89      1.00      0.94         8\n",
      "          37       1.00      1.00      1.00         6\n",
      "          39       1.00      1.00      1.00         5\n",
      "         103       0.96      1.00      0.98        23\n",
      "\n",
      "    accuracy                           0.92        66\n",
      "   macro avg       0.78      0.83      0.80        66\n",
      "weighted avg       0.87      0.92      0.90        66\n",
      "\n"
     ]
    },
    {
     "name": "stderr",
     "output_type": "stream",
     "text": [
      "C:\\Users\\USER\\anaconda3\\Lib\\site-packages\\sklearn\\metrics\\_classification.py:1469: UndefinedMetricWarning: Precision and F-score are ill-defined and being set to 0.0 in labels with no predicted samples. Use `zero_division` parameter to control this behavior.\n",
      "  _warn_prf(average, modifier, msg_start, len(result))\n",
      "C:\\Users\\USER\\anaconda3\\Lib\\site-packages\\sklearn\\metrics\\_classification.py:1469: UndefinedMetricWarning: Precision and F-score are ill-defined and being set to 0.0 in labels with no predicted samples. Use `zero_division` parameter to control this behavior.\n",
      "  _warn_prf(average, modifier, msg_start, len(result))\n",
      "C:\\Users\\USER\\anaconda3\\Lib\\site-packages\\sklearn\\metrics\\_classification.py:1469: UndefinedMetricWarning: Precision and F-score are ill-defined and being set to 0.0 in labels with no predicted samples. Use `zero_division` parameter to control this behavior.\n",
      "  _warn_prf(average, modifier, msg_start, len(result))\n"
     ]
    }
   ],
   "source": [
    "# Predict on the test set\n",
    "y_pred = model.predict(X_test)\n",
    "\n",
    "# Import metrics to evaluate the model\n",
    "from sklearn.metrics import accuracy_score, confusion_matrix, classification_report\n",
    "\n",
    "# Evaluate the model\n",
    "accuracy = accuracy_score(y_test, y_pred)\n",
    "conf_matrix = confusion_matrix(y_test, y_pred)\n",
    "class_report = classification_report(y_test, y_pred)\n",
    "\n",
    "print(f\"Accuracy: {accuracy}\")\n",
    "print(f\"Confusion Matrix:\\n{conf_matrix}\")\n",
    "print(f\"Classification Report:\\n{class_report}\")\n"
   ]
  },
  {
   "cell_type": "code",
   "execution_count": 15,
   "id": "24350941",
   "metadata": {},
   "outputs": [
    {
     "name": "stderr",
     "output_type": "stream",
     "text": [
      "C:\\Users\\USER\\anaconda3\\Lib\\site-packages\\sklearn\\model_selection\\_split.py:725: UserWarning: The least populated class in y has only 1 members, which is less than n_splits=5.\n",
      "  warnings.warn(\n"
     ]
    },
    {
     "name": "stdout",
     "output_type": "stream",
     "text": [
      "Best Parameters: {'max_depth': None, 'n_estimators': 200}\n"
     ]
    }
   ],
   "source": [
    "from sklearn.model_selection import GridSearchCV\n",
    "\n",
    "# Define parameter grid\n",
    "param_grid = {\n",
    "    'n_estimators': [100, 200, 300],\n",
    "    'max_depth': [None, 10, 20, 30]\n",
    "}\n",
    "\n",
    "# Initialize GridSearchCV\n",
    "grid_search = GridSearchCV(model, param_grid, cv=5, scoring='accuracy')\n",
    "\n",
    "# Fit GridSearchCV\n",
    "grid_search.fit(X_train, y_train)\n",
    "\n",
    "# Best parameters and model\n",
    "best_params = grid_search.best_params_\n",
    "best_model = grid_search.best_estimator_\n",
    "\n",
    "print(f'Best Parameters: {best_params}')\n"
   ]
  },
  {
   "cell_type": "code",
   "execution_count": 16,
   "id": "06cc98ed",
   "metadata": {},
   "outputs": [
    {
     "data": {
      "text/plain": [
       "['starbucks_model.pkl']"
      ]
     },
     "execution_count": 16,
     "metadata": {},
     "output_type": "execute_result"
    }
   ],
   "source": [
    "import joblib\n",
    "\n",
    "# Save the trained model\n",
    "joblib.dump(best_model, 'starbucks_model.pkl')\n"
   ]
  },
  {
   "cell_type": "code",
   "execution_count": null,
   "id": "6c2aa459",
   "metadata": {},
   "outputs": [],
   "source": []
  }
 ],
 "metadata": {
  "kernelspec": {
   "display_name": "Python 3 (ipykernel)",
   "language": "python",
   "name": "python3"
  },
  "language_info": {
   "codemirror_mode": {
    "name": "ipython",
    "version": 3
   },
   "file_extension": ".py",
   "mimetype": "text/x-python",
   "name": "python",
   "nbconvert_exporter": "python",
   "pygments_lexer": "ipython3",
   "version": "3.11.5"
  }
 },
 "nbformat": 4,
 "nbformat_minor": 5
}
